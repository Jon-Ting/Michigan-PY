{
 "cells": [
  {
   "cell_type": "markdown",
   "metadata": {},
   "source": [
    "# Assignment 4\n",
    "\n",
    "Before working on this assignment please read these instructions fully. In the submission area, you will notice that you can click the link to **Preview the Grading** for each step of the assignment. This is the criteria that will be used for peer grading. Please familiarize yourself with the criteria before beginning the assignment.\n",
    "\n",
    "This assignment requires that you to find **at least** two datasets on the web which are related, and that you visualize these datasets to answer a question with the broad topic of **religious events or traditions** (see below) for the region of **Ann Arbor, Michigan, United States**, or **United States** more broadly.\n",
    "\n",
    "You can merge these datasets with data from different regions if you like! For instance, you might want to compare **Ann Arbor, Michigan, United States** to Ann Arbor, USA. In that case at least one source file must be about **Ann Arbor, Michigan, United States**.\n",
    "\n",
    "You are welcome to choose datasets at your discretion, but keep in mind **they will be shared with your peers**, so choose appropriate datasets. Sensitive, confidential, illicit, and proprietary materials are not good choices for datasets for this assignment. You are welcome to upload datasets of your own as well, and link to them using a third party repository such as github, bitbucket, pastebin, etc. Please be aware of the Coursera terms of service with respect to intellectual property.\n",
    "\n",
    "Also, you are welcome to preserve data in its original language, but for the purposes of grading you should provide english translations. You are welcome to provide multiple visuals in different languages if you would like!\n",
    "\n",
    "As this assignment is for the whole course, you must incorporate principles discussed in the first week, such as having as high data-ink ratio (Tufte) and aligning with Cairo’s principles of truth, beauty, function, and insight.\n",
    "\n",
    "Here are the assignment instructions:\n",
    "\n",
    " * State the region and the domain category that your data sets are about (e.g., **Ann Arbor, Michigan, United States** and **religious events or traditions**).\n",
    " * You must state a question about the domain category and region that you identified as being interesting.\n",
    " * You must provide at least two links to available datasets. These could be links to files such as CSV or Excel files, or links to websites which might have data in tabular form, such as Wikipedia pages.\n",
    " * You must upload an image which addresses the research question you stated. In addition to addressing the question, this visual should follow Cairo's principles of truthfulness, functionality, beauty, and insightfulness.\n",
    " * You must contribute a short (1-2 paragraph) written justification of how your visualization addresses your stated research question.\n",
    "\n",
    "What do we mean by **religious events or traditions**?  For this category you might consider calendar events, demographic data about religion in the region and neighboring regions, participation in religious events, or how religious events relate to political events, social movements, or historical events.\n",
    "\n",
    "## Tips\n",
    "* Wikipedia is an excellent source of data, and I strongly encourage you to explore it for new data sources.\n",
    "* Many governments run open data initiatives at the city, region, and country levels, and these are wonderful resources for localized data sources.\n",
    "* Several international agencies, such as the [United Nations](http://data.un.org/), the [World Bank](http://data.worldbank.org/), the [Global Open Data Index](http://index.okfn.org/place/) are other great places to look for data.\n",
    "* This assignment requires you to convert and clean datafiles. Check out the discussion forums for tips on how to do this from various sources, and share your successes with your fellow students!\n",
    "\n",
    "## Example\n",
    "Looking for an example? Here's what our course assistant put together for the **Ann Arbor, MI, USA** area using **sports and athletics** as the topic. [Example Solution File](./readonly/Assignment4_example.pdf)"
   ]
  },
  {
   "cell_type": "markdown",
   "metadata": {},
   "source": [
    "# Region and Domain Category of Data Sets\n",
    "\n",
    "Australia\n",
    "\n",
    "Religion"
   ]
  },
  {
   "cell_type": "markdown",
   "metadata": {},
   "source": [
    "# Research Question about Domain Category\n",
    "\n",
    "How have the number of believers of different Christian denominations in Australia change from 1986 to 2016?"
   ]
  },
  {
   "cell_type": "markdown",
   "metadata": {},
   "source": [
    "# Links\n",
    "\n",
    "https://www.abs.gov.au/AUSSTATS/abs@.nsf/Lookup/1301.0Feature+Article7012009%E2%80%9310\n",
    "\n",
    "https://en.wikipedia.org/wiki/Religion_in_Australia"
   ]
  },
  {
   "cell_type": "markdown",
   "metadata": {},
   "source": [
    "# Image"
   ]
  },
  {
   "cell_type": "code",
   "execution_count": 1,
   "metadata": {
    "collapsed": true
   },
   "outputs": [],
   "source": [
    "# Import packages and \n",
    "import pandas as pd\n",
    "import seaborn as sns\n",
    "import matplotlib.pyplot as plt\n",
    "\n",
    "%matplotlib inline"
   ]
  },
  {
   "cell_type": "code",
   "execution_count": 2,
   "metadata": {
    "collapsed": false
   },
   "outputs": [],
   "source": [
    "# Load csv data\n",
    "df_86_06 = pd.read_csv('census_1986_2006.csv')\n",
    "df_16 = pd.read_csv('census_2016.csv')"
   ]
  },
  {
   "cell_type": "code",
   "execution_count": 3,
   "metadata": {
    "collapsed": false
   },
   "outputs": [
    {
     "data": {
      "text/html": [
       "<div>\n",
       "<table border=\"1\" class=\"dataframe\">\n",
       "  <thead>\n",
       "    <tr style=\"text-align: right;\">\n",
       "      <th></th>\n",
       "      <th>Religion</th>\n",
       "      <th>1986</th>\n",
       "      <th>1996</th>\n",
       "      <th>2006</th>\n",
       "    </tr>\n",
       "  </thead>\n",
       "  <tbody>\n",
       "    <tr>\n",
       "      <th>0</th>\n",
       "      <td>Anglican</td>\n",
       "      <td>3723.4</td>\n",
       "      <td>3903.3</td>\n",
       "      <td>3718.3</td>\n",
       "    </tr>\n",
       "    <tr>\n",
       "      <th>1</th>\n",
       "      <td>Baptist</td>\n",
       "      <td>196.8</td>\n",
       "      <td>295.2</td>\n",
       "      <td>316.7</td>\n",
       "    </tr>\n",
       "    <tr>\n",
       "      <th>2</th>\n",
       "      <td>Catholic</td>\n",
       "      <td>4064.4</td>\n",
       "      <td>4799.0</td>\n",
       "      <td>5126.9</td>\n",
       "    </tr>\n",
       "    <tr>\n",
       "      <th>3</th>\n",
       "      <td>Churches of Christ</td>\n",
       "      <td>88.5</td>\n",
       "      <td>75.0</td>\n",
       "      <td>54.8</td>\n",
       "    </tr>\n",
       "    <tr>\n",
       "      <th>4</th>\n",
       "      <td>Jehovah's Witnesses</td>\n",
       "      <td>66.5</td>\n",
       "      <td>83.4</td>\n",
       "      <td>80.9</td>\n",
       "    </tr>\n",
       "  </tbody>\n",
       "</table>\n",
       "</div>"
      ],
      "text/plain": [
       "              Religion    1986    1996    2006\n",
       "0             Anglican  3723.4  3903.3  3718.3\n",
       "1              Baptist   196.8   295.2   316.7\n",
       "2             Catholic  4064.4  4799.0  5126.9\n",
       "3   Churches of Christ    88.5    75.0    54.8\n",
       "4  Jehovah's Witnesses    66.5    83.4    80.9"
      ]
     },
     "execution_count": 3,
     "metadata": {},
     "output_type": "execute_result"
    }
   ],
   "source": [
    "# Have a look at the raw data\n",
    "df_86_06.head()"
   ]
  },
  {
   "cell_type": "code",
   "execution_count": 4,
   "metadata": {
    "collapsed": false
   },
   "outputs": [
    {
     "data": {
      "text/html": [
       "<div>\n",
       "<table border=\"1\" class=\"dataframe\">\n",
       "  <thead>\n",
       "    <tr style=\"text-align: right;\">\n",
       "      <th></th>\n",
       "      <th>Religion</th>\n",
       "      <th>2016</th>\n",
       "      <th>Unnamed: 2</th>\n",
       "    </tr>\n",
       "  </thead>\n",
       "  <tbody>\n",
       "    <tr>\n",
       "      <th>0</th>\n",
       "      <td>Buddhism</td>\n",
       "      <td>563674</td>\n",
       "      <td>NaN</td>\n",
       "    </tr>\n",
       "    <tr>\n",
       "      <th>1</th>\n",
       "      <td>Anglican</td>\n",
       "      <td>3101185</td>\n",
       "      <td>NaN</td>\n",
       "    </tr>\n",
       "    <tr>\n",
       "      <th>2</th>\n",
       "      <td>Assyrian Apostolic</td>\n",
       "      <td>13863</td>\n",
       "      <td>NaN</td>\n",
       "    </tr>\n",
       "    <tr>\n",
       "      <th>3</th>\n",
       "      <td>Baptist</td>\n",
       "      <td>345142</td>\n",
       "      <td>NaN</td>\n",
       "    </tr>\n",
       "    <tr>\n",
       "      <th>4</th>\n",
       "      <td>Brethren</td>\n",
       "      <td>17423</td>\n",
       "      <td>NaN</td>\n",
       "    </tr>\n",
       "  </tbody>\n",
       "</table>\n",
       "</div>"
      ],
      "text/plain": [
       "             Religion     2016  Unnamed: 2\n",
       "0            Buddhism   563674         NaN\n",
       "1            Anglican  3101185         NaN\n",
       "2  Assyrian Apostolic    13863         NaN\n",
       "3             Baptist   345142         NaN\n",
       "4            Brethren    17423         NaN"
      ]
     },
     "execution_count": 4,
     "metadata": {},
     "output_type": "execute_result"
    }
   ],
   "source": [
    "df_16.head()"
   ]
  },
  {
   "cell_type": "code",
   "execution_count": 5,
   "metadata": {
    "collapsed": false
   },
   "outputs": [
    {
     "data": {
      "text/html": [
       "<div>\n",
       "<table border=\"1\" class=\"dataframe\">\n",
       "  <thead>\n",
       "    <tr style=\"text-align: right;\">\n",
       "      <th></th>\n",
       "      <th>Religion</th>\n",
       "      <th>2016 (thousands)</th>\n",
       "    </tr>\n",
       "  </thead>\n",
       "  <tbody>\n",
       "    <tr>\n",
       "      <th>0</th>\n",
       "      <td>Buddhism</td>\n",
       "      <td>563.674</td>\n",
       "    </tr>\n",
       "    <tr>\n",
       "      <th>1</th>\n",
       "      <td>Anglican</td>\n",
       "      <td>3101.185</td>\n",
       "    </tr>\n",
       "    <tr>\n",
       "      <th>2</th>\n",
       "      <td>Assyrian Apostolic</td>\n",
       "      <td>13.863</td>\n",
       "    </tr>\n",
       "    <tr>\n",
       "      <th>3</th>\n",
       "      <td>Baptist</td>\n",
       "      <td>345.142</td>\n",
       "    </tr>\n",
       "    <tr>\n",
       "      <th>4</th>\n",
       "      <td>Brethren</td>\n",
       "      <td>17.423</td>\n",
       "    </tr>\n",
       "  </tbody>\n",
       "</table>\n",
       "</div>"
      ],
      "text/plain": [
       "             Religion  2016 (thousands)\n",
       "0            Buddhism           563.674\n",
       "1            Anglican          3101.185\n",
       "2  Assyrian Apostolic            13.863\n",
       "3             Baptist           345.142\n",
       "4            Brethren            17.423"
      ]
     },
     "execution_count": 5,
     "metadata": {},
     "output_type": "execute_result"
    }
   ],
   "source": [
    "# Process both dataframes so that the data are on the same scale\n",
    "df_16[\"2016 (thousands)\"] = df_16[\"2016\"] / 1000\n",
    "df_16.drop(labels=['2016', 'Unnamed: 2'], axis=1, inplace=True)\n",
    "df_16.head()"
   ]
  },
  {
   "cell_type": "code",
   "execution_count": 6,
   "metadata": {
    "collapsed": false
   },
   "outputs": [
    {
     "data": {
      "text/html": [
       "<div>\n",
       "<table border=\"1\" class=\"dataframe\">\n",
       "  <thead>\n",
       "    <tr style=\"text-align: right;\">\n",
       "      <th></th>\n",
       "      <th>Religion</th>\n",
       "      <th>1986 (thousands)</th>\n",
       "      <th>1996 (thousands)</th>\n",
       "      <th>2006 (thousands)</th>\n",
       "    </tr>\n",
       "  </thead>\n",
       "  <tbody>\n",
       "    <tr>\n",
       "      <th>0</th>\n",
       "      <td>Anglican</td>\n",
       "      <td>3723.4</td>\n",
       "      <td>3903.3</td>\n",
       "      <td>3718.3</td>\n",
       "    </tr>\n",
       "    <tr>\n",
       "      <th>1</th>\n",
       "      <td>Baptist</td>\n",
       "      <td>196.8</td>\n",
       "      <td>295.2</td>\n",
       "      <td>316.7</td>\n",
       "    </tr>\n",
       "    <tr>\n",
       "      <th>2</th>\n",
       "      <td>Catholic</td>\n",
       "      <td>4064.4</td>\n",
       "      <td>4799.0</td>\n",
       "      <td>5126.9</td>\n",
       "    </tr>\n",
       "    <tr>\n",
       "      <th>3</th>\n",
       "      <td>Churches of Christ</td>\n",
       "      <td>88.5</td>\n",
       "      <td>75.0</td>\n",
       "      <td>54.8</td>\n",
       "    </tr>\n",
       "    <tr>\n",
       "      <th>4</th>\n",
       "      <td>Jehovah's Witnesses</td>\n",
       "      <td>66.5</td>\n",
       "      <td>83.4</td>\n",
       "      <td>80.9</td>\n",
       "    </tr>\n",
       "  </tbody>\n",
       "</table>\n",
       "</div>"
      ],
      "text/plain": [
       "              Religion  1986 (thousands)  1996 (thousands)  2006 (thousands)\n",
       "0             Anglican            3723.4            3903.3            3718.3\n",
       "1              Baptist             196.8             295.2             316.7\n",
       "2             Catholic            4064.4            4799.0            5126.9\n",
       "3   Churches of Christ              88.5              75.0              54.8\n",
       "4  Jehovah's Witnesses              66.5              83.4              80.9"
      ]
     },
     "execution_count": 6,
     "metadata": {},
     "output_type": "execute_result"
    }
   ],
   "source": [
    "df_86_06.columns = ['Religion', '1986 (thousands)', '1996 (thousands)', '2006 (thousands)']\n",
    "df_86_06.head()"
   ]
  },
  {
   "cell_type": "code",
   "execution_count": 7,
   "metadata": {
    "collapsed": false
   },
   "outputs": [
    {
     "data": {
      "text/html": [
       "<div>\n",
       "<table border=\"1\" class=\"dataframe\">\n",
       "  <thead>\n",
       "    <tr style=\"text-align: right;\">\n",
       "      <th></th>\n",
       "      <th>Religion</th>\n",
       "      <th>1986 (thousands)</th>\n",
       "      <th>1996 (thousands)</th>\n",
       "      <th>2006 (thousands)</th>\n",
       "      <th>2016 (thousands)</th>\n",
       "    </tr>\n",
       "  </thead>\n",
       "  <tbody>\n",
       "    <tr>\n",
       "      <th>0</th>\n",
       "      <td>Anglican</td>\n",
       "      <td>3723.4</td>\n",
       "      <td>3903.3</td>\n",
       "      <td>3718.3</td>\n",
       "      <td>3101.185</td>\n",
       "    </tr>\n",
       "    <tr>\n",
       "      <th>1</th>\n",
       "      <td>Baptist</td>\n",
       "      <td>196.8</td>\n",
       "      <td>295.2</td>\n",
       "      <td>316.7</td>\n",
       "      <td>345.142</td>\n",
       "    </tr>\n",
       "    <tr>\n",
       "      <th>2</th>\n",
       "      <td>Catholic</td>\n",
       "      <td>4064.4</td>\n",
       "      <td>4799.0</td>\n",
       "      <td>5126.9</td>\n",
       "      <td>5291.834</td>\n",
       "    </tr>\n",
       "    <tr>\n",
       "      <th>3</th>\n",
       "      <td>Churches of Christ</td>\n",
       "      <td>88.5</td>\n",
       "      <td>75.0</td>\n",
       "      <td>54.8</td>\n",
       "      <td>39.621</td>\n",
       "    </tr>\n",
       "    <tr>\n",
       "      <th>4</th>\n",
       "      <td>Jehovah's Witnesses</td>\n",
       "      <td>66.5</td>\n",
       "      <td>83.4</td>\n",
       "      <td>80.9</td>\n",
       "      <td>82.510</td>\n",
       "    </tr>\n",
       "    <tr>\n",
       "      <th>5</th>\n",
       "      <td>Latter Day Saints</td>\n",
       "      <td>35.5</td>\n",
       "      <td>45.2</td>\n",
       "      <td>53.1</td>\n",
       "      <td>61.639</td>\n",
       "    </tr>\n",
       "    <tr>\n",
       "      <th>6</th>\n",
       "      <td>Lutheran</td>\n",
       "      <td>208.3</td>\n",
       "      <td>250.0</td>\n",
       "      <td>251.1</td>\n",
       "      <td>174.019</td>\n",
       "    </tr>\n",
       "    <tr>\n",
       "      <th>7</th>\n",
       "      <td>Eastern Orthodox</td>\n",
       "      <td>427.4</td>\n",
       "      <td>497.3</td>\n",
       "      <td>544.3</td>\n",
       "      <td>502.801</td>\n",
       "    </tr>\n",
       "    <tr>\n",
       "      <th>8</th>\n",
       "      <td>Pentecostal</td>\n",
       "      <td>107.0</td>\n",
       "      <td>174.6</td>\n",
       "      <td>219.6</td>\n",
       "      <td>260.558</td>\n",
       "    </tr>\n",
       "    <tr>\n",
       "      <th>9</th>\n",
       "      <td>Presbyterian and Reformed Churches</td>\n",
       "      <td>560.0</td>\n",
       "      <td>675.5</td>\n",
       "      <td>596.7</td>\n",
       "      <td>526.689</td>\n",
       "    </tr>\n",
       "    <tr>\n",
       "      <th>10</th>\n",
       "      <td>Salvation Army</td>\n",
       "      <td>77.8</td>\n",
       "      <td>74.1</td>\n",
       "      <td>64.2</td>\n",
       "      <td>48.939</td>\n",
       "    </tr>\n",
       "    <tr>\n",
       "      <th>11</th>\n",
       "      <td>Seventh Day Adventist</td>\n",
       "      <td>48.0</td>\n",
       "      <td>52.7</td>\n",
       "      <td>55.3</td>\n",
       "      <td>62.945</td>\n",
       "    </tr>\n",
       "    <tr>\n",
       "      <th>12</th>\n",
       "      <td>Uniting Church</td>\n",
       "      <td>1182.3</td>\n",
       "      <td>1334.9</td>\n",
       "      <td>1135.4</td>\n",
       "      <td>870.183</td>\n",
       "    </tr>\n",
       "    <tr>\n",
       "      <th>13</th>\n",
       "      <td>Other Christian</td>\n",
       "      <td>596.0</td>\n",
       "      <td>322.7</td>\n",
       "      <td>468.6</td>\n",
       "      <td>30.549</td>\n",
       "    </tr>\n",
       "    <tr>\n",
       "      <th>14</th>\n",
       "      <td>Buddhism</td>\n",
       "      <td>80.4</td>\n",
       "      <td>199.8</td>\n",
       "      <td>418.8</td>\n",
       "      <td>563.674</td>\n",
       "    </tr>\n",
       "    <tr>\n",
       "      <th>15</th>\n",
       "      <td>Hinduism</td>\n",
       "      <td>21.5</td>\n",
       "      <td>67.3</td>\n",
       "      <td>148.1</td>\n",
       "      <td>440.300</td>\n",
       "    </tr>\n",
       "    <tr>\n",
       "      <th>16</th>\n",
       "      <td>Islam</td>\n",
       "      <td>109.5</td>\n",
       "      <td>200.9</td>\n",
       "      <td>340.4</td>\n",
       "      <td>604.240</td>\n",
       "    </tr>\n",
       "    <tr>\n",
       "      <th>17</th>\n",
       "      <td>Judaism</td>\n",
       "      <td>69.1</td>\n",
       "      <td>79.8</td>\n",
       "      <td>88.8</td>\n",
       "      <td>91.022</td>\n",
       "    </tr>\n",
       "    <tr>\n",
       "      <th>18</th>\n",
       "      <td>Not stated</td>\n",
       "      <td>1926.6</td>\n",
       "      <td>1604.8</td>\n",
       "      <td>2357.8</td>\n",
       "      <td>2238.735</td>\n",
       "    </tr>\n",
       "  </tbody>\n",
       "</table>\n",
       "</div>"
      ],
      "text/plain": [
       "                              Religion  1986 (thousands)  1996 (thousands)  \\\n",
       "0                             Anglican            3723.4            3903.3   \n",
       "1                              Baptist             196.8             295.2   \n",
       "2                             Catholic            4064.4            4799.0   \n",
       "3                   Churches of Christ              88.5              75.0   \n",
       "4                  Jehovah's Witnesses              66.5              83.4   \n",
       "5                    Latter Day Saints              35.5              45.2   \n",
       "6                             Lutheran             208.3             250.0   \n",
       "7                     Eastern Orthodox             427.4             497.3   \n",
       "8                          Pentecostal             107.0             174.6   \n",
       "9   Presbyterian and Reformed Churches             560.0             675.5   \n",
       "10                      Salvation Army              77.8              74.1   \n",
       "11               Seventh Day Adventist              48.0              52.7   \n",
       "12                      Uniting Church            1182.3            1334.9   \n",
       "13                     Other Christian             596.0             322.7   \n",
       "14                            Buddhism              80.4             199.8   \n",
       "15                            Hinduism              21.5              67.3   \n",
       "16                               Islam             109.5             200.9   \n",
       "17                             Judaism              69.1              79.8   \n",
       "18                          Not stated            1926.6            1604.8   \n",
       "\n",
       "    2006 (thousands)  2016 (thousands)  \n",
       "0             3718.3          3101.185  \n",
       "1              316.7           345.142  \n",
       "2             5126.9          5291.834  \n",
       "3               54.8            39.621  \n",
       "4               80.9            82.510  \n",
       "5               53.1            61.639  \n",
       "6              251.1           174.019  \n",
       "7              544.3           502.801  \n",
       "8              219.6           260.558  \n",
       "9              596.7           526.689  \n",
       "10              64.2            48.939  \n",
       "11              55.3            62.945  \n",
       "12            1135.4           870.183  \n",
       "13             468.6            30.549  \n",
       "14             418.8           563.674  \n",
       "15             148.1           440.300  \n",
       "16             340.4           604.240  \n",
       "17              88.8            91.022  \n",
       "18            2357.8          2238.735  "
      ]
     },
     "execution_count": 7,
     "metadata": {},
     "output_type": "execute_result"
    }
   ],
   "source": [
    "# Merge the dataframes\n",
    "df = df_86_06.merge(df_16, how=\"inner\", on=\"Religion\")\n",
    "df"
   ]
  },
  {
   "cell_type": "code",
   "execution_count": 8,
   "metadata": {
    "collapsed": false
   },
   "outputs": [
    {
     "data": {
      "text/html": [
       "<div>\n",
       "<table border=\"1\" class=\"dataframe\">\n",
       "  <thead>\n",
       "    <tr style=\"text-align: right;\">\n",
       "      <th></th>\n",
       "      <th>1986 (thousands)</th>\n",
       "      <th>1996 (thousands)</th>\n",
       "      <th>2006 (thousands)</th>\n",
       "      <th>2016 (thousands)</th>\n",
       "    </tr>\n",
       "    <tr>\n",
       "      <th>Religion</th>\n",
       "      <th></th>\n",
       "      <th></th>\n",
       "      <th></th>\n",
       "      <th></th>\n",
       "    </tr>\n",
       "  </thead>\n",
       "  <tbody>\n",
       "    <tr>\n",
       "      <th>Anglican</th>\n",
       "      <td>3723.4</td>\n",
       "      <td>3903.3</td>\n",
       "      <td>3718.3</td>\n",
       "      <td>3101.185</td>\n",
       "    </tr>\n",
       "    <tr>\n",
       "      <th>Baptist</th>\n",
       "      <td>196.8</td>\n",
       "      <td>295.2</td>\n",
       "      <td>316.7</td>\n",
       "      <td>345.142</td>\n",
       "    </tr>\n",
       "    <tr>\n",
       "      <th>Catholic</th>\n",
       "      <td>4064.4</td>\n",
       "      <td>4799.0</td>\n",
       "      <td>5126.9</td>\n",
       "      <td>5291.834</td>\n",
       "    </tr>\n",
       "    <tr>\n",
       "      <th>Churches of Christ</th>\n",
       "      <td>88.5</td>\n",
       "      <td>75.0</td>\n",
       "      <td>54.8</td>\n",
       "      <td>39.621</td>\n",
       "    </tr>\n",
       "    <tr>\n",
       "      <th>Jehovah's Witnesses</th>\n",
       "      <td>66.5</td>\n",
       "      <td>83.4</td>\n",
       "      <td>80.9</td>\n",
       "      <td>82.510</td>\n",
       "    </tr>\n",
       "    <tr>\n",
       "      <th>Latter Day Saints</th>\n",
       "      <td>35.5</td>\n",
       "      <td>45.2</td>\n",
       "      <td>53.1</td>\n",
       "      <td>61.639</td>\n",
       "    </tr>\n",
       "    <tr>\n",
       "      <th>Lutheran</th>\n",
       "      <td>208.3</td>\n",
       "      <td>250.0</td>\n",
       "      <td>251.1</td>\n",
       "      <td>174.019</td>\n",
       "    </tr>\n",
       "    <tr>\n",
       "      <th>Eastern Orthodox</th>\n",
       "      <td>427.4</td>\n",
       "      <td>497.3</td>\n",
       "      <td>544.3</td>\n",
       "      <td>502.801</td>\n",
       "    </tr>\n",
       "    <tr>\n",
       "      <th>Pentecostal</th>\n",
       "      <td>107.0</td>\n",
       "      <td>174.6</td>\n",
       "      <td>219.6</td>\n",
       "      <td>260.558</td>\n",
       "    </tr>\n",
       "    <tr>\n",
       "      <th>Presbyterian and Reformed Churches</th>\n",
       "      <td>560.0</td>\n",
       "      <td>675.5</td>\n",
       "      <td>596.7</td>\n",
       "      <td>526.689</td>\n",
       "    </tr>\n",
       "    <tr>\n",
       "      <th>Salvation Army</th>\n",
       "      <td>77.8</td>\n",
       "      <td>74.1</td>\n",
       "      <td>64.2</td>\n",
       "      <td>48.939</td>\n",
       "    </tr>\n",
       "    <tr>\n",
       "      <th>Seventh Day Adventist</th>\n",
       "      <td>48.0</td>\n",
       "      <td>52.7</td>\n",
       "      <td>55.3</td>\n",
       "      <td>62.945</td>\n",
       "    </tr>\n",
       "    <tr>\n",
       "      <th>Uniting Church</th>\n",
       "      <td>1182.3</td>\n",
       "      <td>1334.9</td>\n",
       "      <td>1135.4</td>\n",
       "      <td>870.183</td>\n",
       "    </tr>\n",
       "  </tbody>\n",
       "</table>\n",
       "</div>"
      ],
      "text/plain": [
       "                                    1986 (thousands)  1996 (thousands)  \\\n",
       "Religion                                                                 \n",
       "Anglican                                      3723.4            3903.3   \n",
       "Baptist                                        196.8             295.2   \n",
       "Catholic                                      4064.4            4799.0   \n",
       "Churches of Christ                              88.5              75.0   \n",
       "Jehovah's Witnesses                             66.5              83.4   \n",
       "Latter Day Saints                               35.5              45.2   \n",
       "Lutheran                                       208.3             250.0   \n",
       "Eastern Orthodox                               427.4             497.3   \n",
       "Pentecostal                                    107.0             174.6   \n",
       "Presbyterian and Reformed Churches             560.0             675.5   \n",
       "Salvation Army                                  77.8              74.1   \n",
       "Seventh Day Adventist                           48.0              52.7   \n",
       "Uniting Church                                1182.3            1334.9   \n",
       "\n",
       "                                    2006 (thousands)  2016 (thousands)  \n",
       "Religion                                                                \n",
       "Anglican                                      3718.3          3101.185  \n",
       "Baptist                                        316.7           345.142  \n",
       "Catholic                                      5126.9          5291.834  \n",
       "Churches of Christ                              54.8            39.621  \n",
       "Jehovah's Witnesses                             80.9            82.510  \n",
       "Latter Day Saints                               53.1            61.639  \n",
       "Lutheran                                       251.1           174.019  \n",
       "Eastern Orthodox                               544.3           502.801  \n",
       "Pentecostal                                    219.6           260.558  \n",
       "Presbyterian and Reformed Churches             596.7           526.689  \n",
       "Salvation Army                                  64.2            48.939  \n",
       "Seventh Day Adventist                           55.3            62.945  \n",
       "Uniting Church                                1135.4           870.183  "
      ]
     },
     "execution_count": 8,
     "metadata": {},
     "output_type": "execute_result"
    }
   ],
   "source": [
    "# Drop rows that are not needed for the research question\n",
    "df.drop(labels=df.index[13:], inplace=True)\n",
    "df = df.set_index(\"Religion\")\n",
    "df"
   ]
  },
  {
   "cell_type": "code",
   "execution_count": 9,
   "metadata": {
    "collapsed": false
   },
   "outputs": [
    {
     "data": {
      "text/html": [
       "<div>\n",
       "<table border=\"1\" class=\"dataframe\">\n",
       "  <thead>\n",
       "    <tr style=\"text-align: right;\">\n",
       "      <th></th>\n",
       "      <th>1986 (thousands)</th>\n",
       "      <th>1996 (thousands)</th>\n",
       "      <th>2006 (thousands)</th>\n",
       "      <th>2016 (thousands)</th>\n",
       "    </tr>\n",
       "    <tr>\n",
       "      <th>Religion</th>\n",
       "      <th></th>\n",
       "      <th></th>\n",
       "      <th></th>\n",
       "      <th></th>\n",
       "    </tr>\n",
       "  </thead>\n",
       "  <tbody>\n",
       "    <tr>\n",
       "      <th>Catholic</th>\n",
       "      <td>4064.4</td>\n",
       "      <td>4799.0</td>\n",
       "      <td>5126.9</td>\n",
       "      <td>5291.834</td>\n",
       "    </tr>\n",
       "    <tr>\n",
       "      <th>Anglican</th>\n",
       "      <td>3723.4</td>\n",
       "      <td>3903.3</td>\n",
       "      <td>3718.3</td>\n",
       "      <td>3101.185</td>\n",
       "    </tr>\n",
       "    <tr>\n",
       "      <th>Uniting Church</th>\n",
       "      <td>1182.3</td>\n",
       "      <td>1334.9</td>\n",
       "      <td>1135.4</td>\n",
       "      <td>870.183</td>\n",
       "    </tr>\n",
       "    <tr>\n",
       "      <th>Presbyterian and Reformed Churches</th>\n",
       "      <td>560.0</td>\n",
       "      <td>675.5</td>\n",
       "      <td>596.7</td>\n",
       "      <td>526.689</td>\n",
       "    </tr>\n",
       "    <tr>\n",
       "      <th>Eastern Orthodox</th>\n",
       "      <td>427.4</td>\n",
       "      <td>497.3</td>\n",
       "      <td>544.3</td>\n",
       "      <td>502.801</td>\n",
       "    </tr>\n",
       "  </tbody>\n",
       "</table>\n",
       "</div>"
      ],
      "text/plain": [
       "                                    1986 (thousands)  1996 (thousands)  \\\n",
       "Religion                                                                 \n",
       "Catholic                                      4064.4            4799.0   \n",
       "Anglican                                      3723.4            3903.3   \n",
       "Uniting Church                                1182.3            1334.9   \n",
       "Presbyterian and Reformed Churches             560.0             675.5   \n",
       "Eastern Orthodox                               427.4             497.3   \n",
       "\n",
       "                                    2006 (thousands)  2016 (thousands)  \n",
       "Religion                                                                \n",
       "Catholic                                      5126.9          5291.834  \n",
       "Anglican                                      3718.3          3101.185  \n",
       "Uniting Church                                1135.4           870.183  \n",
       "Presbyterian and Reformed Churches             596.7           526.689  \n",
       "Eastern Orthodox                               544.3           502.801  "
      ]
     },
     "execution_count": 9,
     "metadata": {},
     "output_type": "execute_result"
    }
   ],
   "source": [
    "# Sort the data\n",
    "df = df.sort_values(by=[\"1986 (thousands)\", \"1996 (thousands)\", \"2006 (thousands)\", \"2016 (thousands)\"], ascending=False)\n",
    "df.head()"
   ]
  },
  {
   "cell_type": "code",
   "execution_count": 10,
   "metadata": {
    "collapsed": false
   },
   "outputs": [
    {
     "name": "stdout",
     "output_type": "stream",
     "text": [
      "['grayscale', 'seaborn-colorblind', 'seaborn-bright', 'seaborn-deep', 'seaborn-pastel', 'classic', 'seaborn-muted', 'seaborn-darkgrid', 'seaborn-white', 'seaborn-paper', 'seaborn-dark', 'seaborn-whitegrid', 'dark_background', 'seaborn-poster', 'ggplot', 'seaborn-ticks', 'seaborn-dark-palette', 'seaborn-notebook', 'bmh', 'seaborn-talk', 'fivethirtyeight', 'seaborn']\n"
     ]
    }
   ],
   "source": [
    "# Settings for figures\n",
    "print(plt.style.available)\n",
    "plt.style.use('seaborn-colorblind')\n",
    "plt.rcParams['figure.figsize'] = [12, 8]\n",
    "plt.rcParams['legend.fontsize'] = 15\n",
    "plt.rcParams['axes.titlepad'] = 20"
   ]
  },
  {
   "cell_type": "code",
   "execution_count": 11,
   "metadata": {
    "collapsed": false
   },
   "outputs": [
    {
     "data": {
      "text/plain": [
       "<matplotlib.figure.Figure at 0x7f356ce7b198>"
      ]
     },
     "metadata": {},
     "output_type": "display_data"
    },
    {
     "data": {
      "image/png": "[encoded data removed]",
      "text/plain": [
       "<matplotlib.figure.Figure at 0x7f356ce7bb38>"
      ]
     },
     "metadata": {},
     "output_type": "display_data"
    }
   ],
   "source": [
    "# Bar plot\n",
    "plt.figure()\n",
    "df.T.plot(kind='bar', stacked=True, colormap=\"gist_rainbow\")\n",
    "plt.title('Number of Believers in Australian Christian Denominations (1986-2016)', {'fontsize': 25})\n",
    "plt.xlabel('Year', {'fontsize': 20})\n",
    "plt.ylabel('Number of Believers (Thousands)', {'fontsize': 20})\n",
    "plt.legend(loc='right', bbox_to_anchor=(1.5, 0.5))\n",
    "plt.xticks([0, 1, 2, 3], [1986, 1996, 2006, 2016], rotation=0)\n",
    "plt.tick_params(axis='both', which='major', labelsize='medium')\n",
    "plt.show()"
   ]
  },
  {
   "cell_type": "code",
   "execution_count": 12,
   "metadata": {
    "collapsed": false
   },
   "outputs": [
    {
     "data": {
      "text/plain": [
       "<matplotlib.figure.Figure at 0x7f356cda2b70>"
      ]
     },
     "metadata": {},
     "output_type": "display_data"
    },
    {
     "data": {
      "image/png": "[encoded data removed]",
      "text/plain": [
       "<matplotlib.figure.Figure at 0x7f356cd7b908>"
      ]
     },
     "metadata": {},
     "output_type": "display_data"
    }
   ],
   "source": [
    "# Line plot\n",
    "plt.figure()\n",
    "df.T.plot(kind='line', colormap=\"Set1\")\n",
    "plt.title('Number of Believers in Australian Christian Denominations (1986-2016)', {'fontsize': 25})\n",
    "plt.xlabel('Year', {'fontsize': 20})\n",
    "plt.ylabel('Number of Believers (Thousands)', {'fontsize': 20})\n",
    "plt.legend(loc='right', bbox_to_anchor=(1.5, 0.5))\n",
    "plt.xticks([0, 1, 2, 3], [1986, 1996, 2006, 2016], rotation=0)\n",
    "plt.yscale('log')\n",
    "plt.tick_params(axis='both', which='major', labelsize='medium')\n",
    "plt.show()"
   ]
  },
  {
   "cell_type": "markdown",
   "metadata": {
    "collapsed": true
   },
   "source": [
    "# Justification of how the visualisation addresses the research question\n",
    "\n",
    "This visualization was concerned with answering the question of how number of believers of different Christian denominations in Australia change from 1986 to 2016. Data regarding the religions of Australians were obtained from Wikipedia and Australian Bureau of Statistics. Any non-Christian religions were dropped from the analysis. A bar plot and a line plot were presented in this document. Due to the relatively small amount of data available (4 collections of census data), a bar plot is favored for presentation of the number of believers in each denomination. However, it is difficult to interpret the trend from a bar and hence why a line plot was included as well.\n",
    "\n",
    "The plots aim to show the trend of the number of believers for each Christian denomination during the period 1986 to 2016, with data collected every 10 years in between. The bar plot clearly shows that majority of Christians in Australia are Catholics, followed by Anglicans, Uniting Church, Presbyterian and Reformed Churches, and Eastern Orthodox Churches. The trend could be seen clearer through the line plot. The Catholics is the only denomination among the five largest mentioned above which shows a monotonic increase in number of belivers over 30 years (not-knowing the statistics of the years in between). The other major denominations have exhibited slight decrement in number of believers after 30 years except Eastern Orthodox Churches.\n",
    "\n",
    "In a nutshell, the plots have managed to show us the general trend of the number of believers among the Christian denominations in Australia."
   ]
  },
  {
   "cell_type": "code",
   "execution_count": 13,
   "metadata": {
    "collapsed": false
   },
   "outputs": [],
   "source": [
    "# help(pd.DataFrame.plot)\n",
    "# help(plt.yscale)\n",
    "# help(pd.DataFrame.merge)"
   ]
  },
  {
   "cell_type": "code",
   "execution_count": null,
   "metadata": {
    "collapsed": true
   },
   "outputs": [],
   "source": []
  }
 ],
 "metadata": {
  "kernelspec": {
   "display_name": "Python 3",
   "language": "python",
   "name": "python3"
  },
  "language_info": {
   "codemirror_mode": {
    "name": "ipython",
    "version": 3
   },
   "file_extension": ".py",
   "mimetype": "text/x-python",
   "name": "python",
   "nbconvert_exporter": "python",
   "pygments_lexer": "ipython3",
   "version": "3.6.2"
  }
 },
 "nbformat": 4,
 "nbformat_minor": 1
}
